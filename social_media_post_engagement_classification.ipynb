{
  "nbformat": 4,
  "nbformat_minor": 0,
  "metadata": {
    "colab": {
      "provenance": []
    },
    "kernelspec": {
      "name": "python3",
      "display_name": "Python 3"
    },
    "language_info": {
      "name": "python"
    }
  },
  "cells": [
    {
      "cell_type": "code",
      "execution_count": 3,
      "metadata": {
        "id": "Ci0P3yv2hS4S",
        "colab": {
          "base_uri": "https://localhost:8080/"
        },
        "outputId": "c95223c1-8c21-4358-991f-c8fa38ed95ff"
      },
      "outputs": [
        {
          "output_type": "stream",
          "name": "stdout",
          "text": [
            "ROC AUC:  0.5571\n",
            "+---------+-----+--------+----------------+----------+\n",
            "|post_type|likes|comments|engagement_label|prediction|\n",
            "+---------+-----+--------+----------------+----------+\n",
            "|    story|   60|      86|               0|       1.0|\n",
            "|    photo|  373|      76|               1|       1.0|\n",
            "|   status|  177|      40|               0|       1.0|\n",
            "|   status|  384|      54|               1|       1.0|\n",
            "|     link|  432|      83|               1|       0.0|\n",
            "|   status|   18|      16|               0|       0.0|\n",
            "|    video|  225|      65|               0|       0.0|\n",
            "|    video|  154|      39|               0|       0.0|\n",
            "|    photo|  206|      80|               0|       1.0|\n",
            "|   status|  117|      55|               0|       1.0|\n",
            "+---------+-----+--------+----------------+----------+\n",
            "only showing top 10 rows\n",
            "\n"
          ]
        }
      ],
      "source": [
        "# INIT & LOAD\n",
        "from pyspark.sql import SparkSession\n",
        "from pyspark.sql.functions import col, when\n",
        "from pyspark.ml.feature import StringIndexer, OneHotEncoder, VectorAssembler\n",
        "from pyspark.ml.classification import LogisticRegression\n",
        "from pyspark.ml import Pipeline\n",
        "from pyspark.ml.evaluation import BinaryClassificationEvaluator\n",
        "# start spark\n",
        "spark= SparkSession.builder.appName(\"PostEngagementClassifier\").getOrCreate()\n",
        "# Load data\n",
        "data_path=\"/content/social_media_posts.csv\"\n",
        "df= spark.read.option(\"header\", True).option(\"inferschema\", True).csv(data_path)\n",
        "# label creation\n",
        "# calculate median likes for engagement threshold\n",
        "median_likes= df.approxQuantile(\"likes\", [0.5], 0.0)[0]\n",
        "# create binary label: 1= high engagement, 0= low\n",
        "df= df.withColumn(\"engagement_label\", when(col(\"likes\") >= median_likes, 1).otherwise(0))\n",
        "# feature encoding\n",
        "# categorical features\n",
        "cat_features= [\"post_type\", \"device_type\", \"location\"]\n",
        "indexers= [StringIndexer(inputCol= col, outputCol= col+ \"_idx\") for col in cat_features]\n",
        "encoders= [OneHotEncoder(inputCol= col+ \"_idx\", outputCol= col+ \"_vec\") for col in cat_features]\n",
        "# numeric features\n",
        "numeric_features= [\"comments\"]\n",
        "# assemble features\n",
        "assembler_inputs= [f+ \"_vec\" for f in cat_features] + numeric_features\n",
        "assembler= VectorAssembler(inputCols= assembler_inputs, outputCol= \"features\")\n",
        "# model pipeline\n",
        "lr= LogisticRegression(labelCol= \"engagement_label\", featuresCol= \"features\")\n",
        "pipeline= Pipeline(stages= indexers + encoders + [assembler, lr])\n",
        "# train/ test split\n",
        "train_data, test_data= df.randomSplit([0.8, 0.2], seed= 42)\n",
        "model= pipeline.fit(train_data)\n",
        "predictions= model.transform(test_data)\n",
        "# evaluation\n",
        "evaluator= BinaryClassificationEvaluator(labelCol= \"engagement_label\", metricName= \"areaUnderROC\")\n",
        "roc_auc= evaluator.evaluate(predictions)\n",
        "print(f\"ROC AUC: {roc_auc: .4f}\")\n",
        "# show predicted vs actual\n",
        "predictions.select(\"post_type\", \"likes\", \"comments\", \"engagement_label\", \"prediction\").show(10)"
      ]
    }
  ]
}